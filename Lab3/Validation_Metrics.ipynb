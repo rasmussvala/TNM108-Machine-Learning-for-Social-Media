{
 "cells": [
  {
   "cell_type": "code",
   "execution_count": 1,
   "metadata": {},
   "outputs": [
    {
     "ename": "ValueError",
     "evalue": "setting an array element with a sequence. The requested array has an inhomogeneous shape after 1 dimensions. The detected shape was (3,) + inhomogeneous part.",
     "output_type": "error",
     "traceback": [
      "\u001b[1;31m---------------------------------------------------------------------------\u001b[0m",
      "\u001b[1;31mValueError\u001b[0m                                Traceback (most recent call last)",
      "\u001b[1;32mc:\\Users\\Wille\\Documents\\GitHub\\TNM108\\Lab3\\Bayes_Classification.ipynb Cell 1\u001b[0m line \u001b[0;36m1\n\u001b[0;32m    <a href='vscode-notebook-cell:/c%3A/Users/Wille/Documents/GitHub/TNM108/Lab3/Bayes_Classification.ipynb#X12sZmlsZQ%3D%3D?line=178'>179</a>\u001b[0m     \u001b[39mprint\u001b[39m(\u001b[39m'\u001b[39m\u001b[39mAccuracy: \u001b[39m\u001b[39m%.3f\u001b[39;00m\u001b[39m'\u001b[39m \u001b[39m%\u001b[39m accuracy)\n\u001b[0;32m    <a href='vscode-notebook-cell:/c%3A/Users/Wille/Documents/GitHub/TNM108/Lab3/Bayes_Classification.ipynb#X12sZmlsZQ%3D%3D?line=180'>181</a>\u001b[0m \u001b[39mif\u001b[39;00m \u001b[39m__name__\u001b[39m \u001b[39m==\u001b[39m \u001b[39m'\u001b[39m\u001b[39m__main__\u001b[39m\u001b[39m'\u001b[39m:\n\u001b[1;32m--> <a href='vscode-notebook-cell:/c%3A/Users/Wille/Documents/GitHub/TNM108/Lab3/Bayes_Classification.ipynb#X12sZmlsZQ%3D%3D?line=181'>182</a>\u001b[0m     main()\n",
      "\u001b[1;32mc:\\Users\\Wille\\Documents\\GitHub\\TNM108\\Lab3\\Bayes_Classification.ipynb Cell 1\u001b[0m line \u001b[0;36m1\n\u001b[0;32m    <a href='vscode-notebook-cell:/c%3A/Users/Wille/Documents/GitHub/TNM108/Lab3/Bayes_Classification.ipynb#X12sZmlsZQ%3D%3D?line=173'>174</a>\u001b[0m nb\u001b[39m.\u001b[39mtarget_values\u001b[39m=\u001b[39mnp\u001b[39m.\u001b[39munique(target)\n\u001b[0;32m    <a href='vscode-notebook-cell:/c%3A/Users/Wille/Documents/GitHub/TNM108/Lab3/Bayes_Classification.ipynb#X12sZmlsZQ%3D%3D?line=174'>175</a>\u001b[0m X_train,X_test,y_train,y_test\u001b[39m=\u001b[39mtrain_test_split(data,target,test_size\u001b[39m=\u001b[39m\u001b[39m0.3\u001b[39m)\n\u001b[1;32m--> <a href='vscode-notebook-cell:/c%3A/Users/Wille/Documents/GitHub/TNM108/Lab3/Bayes_Classification.ipynb#X12sZmlsZQ%3D%3D?line=175'>176</a>\u001b[0m nb\u001b[39m.\u001b[39;49mtrain(X_train,y_train)\n\u001b[0;32m    <a href='vscode-notebook-cell:/c%3A/Users/Wille/Documents/GitHub/TNM108/Lab3/Bayes_Classification.ipynb#X12sZmlsZQ%3D%3D?line=176'>177</a>\u001b[0m predicted \u001b[39m=\u001b[39m nb\u001b[39m.\u001b[39mpredict(X_test)\n\u001b[0;32m    <a href='vscode-notebook-cell:/c%3A/Users/Wille/Documents/GitHub/TNM108/Lab3/Bayes_Classification.ipynb#X12sZmlsZQ%3D%3D?line=177'>178</a>\u001b[0m accuracy \u001b[39m=\u001b[39m nb\u001b[39m.\u001b[39maccuracy(y_test, predicted)\n",
      "\u001b[1;32mc:\\Users\\Wille\\Documents\\GitHub\\TNM108\\Lab3\\Bayes_Classification.ipynb Cell 1\u001b[0m line \u001b[0;36m4\n\u001b[0;32m     <a href='vscode-notebook-cell:/c%3A/Users/Wille/Documents/GitHub/TNM108/Lab3/Bayes_Classification.ipynb#X12sZmlsZQ%3D%3D?line=36'>37</a>\u001b[0m \u001b[39mdef\u001b[39;00m \u001b[39mtrain\u001b[39m(\u001b[39mself\u001b[39m, data, target):\n\u001b[0;32m     <a href='vscode-notebook-cell:/c%3A/Users/Wille/Documents/GitHub/TNM108/Lab3/Bayes_Classification.ipynb#X12sZmlsZQ%3D%3D?line=37'>38</a>\u001b[0m \u001b[39m    \u001b[39m\u001b[39m\"\"\"\u001b[39;00m\n\u001b[0;32m     <a href='vscode-notebook-cell:/c%3A/Users/Wille/Documents/GitHub/TNM108/Lab3/Bayes_Classification.ipynb#X12sZmlsZQ%3D%3D?line=38'>39</a>\u001b[0m \u001b[39m    :param data: a dataset\u001b[39;00m\n\u001b[0;32m     <a href='vscode-notebook-cell:/c%3A/Users/Wille/Documents/GitHub/TNM108/Lab3/Bayes_Classification.ipynb#X12sZmlsZQ%3D%3D?line=39'>40</a>\u001b[0m \u001b[39m    :param target: the list of class labels labelling data\u001b[39;00m\n\u001b[1;32m   (...)\u001b[0m\n\u001b[0;32m     <a href='vscode-notebook-cell:/c%3A/Users/Wille/Documents/GitHub/TNM108/Lab3/Bayes_Classification.ipynb#X12sZmlsZQ%3D%3D?line=43'>44</a>\u001b[0m \u001b[39m        2. yield summary: list of {'mean': 0.0,'stdev': 0.0} for every feature in data\u001b[39;00m\n\u001b[0;32m     <a href='vscode-notebook-cell:/c%3A/Users/Wille/Documents/GitHub/TNM108/Lab3/Bayes_Classification.ipynb#X12sZmlsZQ%3D%3D?line=44'>45</a>\u001b[0m \u001b[39m    \"\"\"\u001b[39;00m\n\u001b[1;32m---> <a href='vscode-notebook-cell:/c%3A/Users/Wille/Documents/GitHub/TNM108/Lab3/Bayes_Classification.ipynb#X12sZmlsZQ%3D%3D?line=45'>46</a>\u001b[0m     groups \u001b[39m=\u001b[39m \u001b[39mself\u001b[39;49m\u001b[39m.\u001b[39;49mgroup_by_class(data, target)\n\u001b[0;32m     <a href='vscode-notebook-cell:/c%3A/Users/Wille/Documents/GitHub/TNM108/Lab3/Bayes_Classification.ipynb#X12sZmlsZQ%3D%3D?line=46'>47</a>\u001b[0m     \u001b[39mfor\u001b[39;00m index \u001b[39min\u001b[39;00m \u001b[39mrange\u001b[39m(groups\u001b[39m.\u001b[39mshape[\u001b[39m0\u001b[39m]):\n\u001b[0;32m     <a href='vscode-notebook-cell:/c%3A/Users/Wille/Documents/GitHub/TNM108/Lab3/Bayes_Classification.ipynb#X12sZmlsZQ%3D%3D?line=47'>48</a>\u001b[0m         group\u001b[39m=\u001b[39mgroups[index]\n",
      "\u001b[1;32mc:\\Users\\Wille\\Documents\\GitHub\\TNM108\\Lab3\\Bayes_Classification.ipynb Cell 1\u001b[0m line \u001b[0;36m2\n\u001b[0;32m     <a href='vscode-notebook-cell:/c%3A/Users/Wille/Documents/GitHub/TNM108/Lab3/Bayes_Classification.ipynb#X12sZmlsZQ%3D%3D?line=22'>23</a>\u001b[0m separated \u001b[39m=\u001b[39m [[x \u001b[39mfor\u001b[39;00m x, t \u001b[39min\u001b[39;00m \u001b[39mzip\u001b[39m(data, target) \u001b[39mif\u001b[39;00m t \u001b[39m==\u001b[39m c] \u001b[39mfor\u001b[39;00m c \u001b[39min\u001b[39;00m \u001b[39mself\u001b[39m\u001b[39m.\u001b[39mtarget_values]\n\u001b[0;32m     <a href='vscode-notebook-cell:/c%3A/Users/Wille/Documents/GitHub/TNM108/Lab3/Bayes_Classification.ipynb#X12sZmlsZQ%3D%3D?line=23'>24</a>\u001b[0m groups\u001b[39m=\u001b[39m[np\u001b[39m.\u001b[39marray(separated[\u001b[39m0\u001b[39m]),np\u001b[39m.\u001b[39marray(separated[\u001b[39m1\u001b[39m]),np\u001b[39m.\u001b[39marray(separated[\u001b[39m2\u001b[39m])]\n\u001b[1;32m---> <a href='vscode-notebook-cell:/c%3A/Users/Wille/Documents/GitHub/TNM108/Lab3/Bayes_Classification.ipynb#X12sZmlsZQ%3D%3D?line=24'>25</a>\u001b[0m \u001b[39mreturn\u001b[39;00m np\u001b[39m.\u001b[39;49marray(groups)\n",
      "\u001b[1;31mValueError\u001b[0m: setting an array element with a sequence. The requested array has an inhomogeneous shape after 1 dimensions. The detected shape was (3,) + inhomogeneous part."
     ]
    }
   ],
   "source": []
  }
 ],
 "metadata": {
  "kernelspec": {
   "display_name": "Python 3",
   "language": "python",
   "name": "python3"
  },
  "language_info": {
   "codemirror_mode": {
    "name": "ipython",
    "version": 3
   },
   "file_extension": ".py",
   "mimetype": "text/x-python",
   "name": "python",
   "nbconvert_exporter": "python",
   "pygments_lexer": "ipython3",
   "version": "3.11.5"
  },
  "orig_nbformat": 4
 },
 "nbformat": 4,
 "nbformat_minor": 2
}
