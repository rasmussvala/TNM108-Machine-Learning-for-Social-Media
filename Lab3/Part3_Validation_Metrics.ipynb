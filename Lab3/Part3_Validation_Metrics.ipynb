{
 "cells": [
  {
   "cell_type": "code",
   "execution_count": 4,
   "metadata": {},
   "outputs": [
    {
     "ename": "ImportError",
     "evalue": "\n`load_boston` has been removed from scikit-learn since version 1.2.\n\nThe Boston housing prices dataset has an ethical problem: as\ninvestigated in [1], the authors of this dataset engineered a\nnon-invertible variable \"B\" assuming that racial self-segregation had a\npositive impact on house prices [2]. Furthermore the goal of the\nresearch that led to the creation of this dataset was to study the\nimpact of air quality but it did not give adequate demonstration of the\nvalidity of this assumption.\n\nThe scikit-learn maintainers therefore strongly discourage the use of\nthis dataset unless the purpose of the code is to study and educate\nabout ethical issues in data science and machine learning.\n\nIn this special case, you can fetch the dataset from the original\nsource::\n\n    import pandas as pd\n    import numpy as np\n\n    data_url = \"http://lib.stat.cmu.edu/datasets/boston\"\n    raw_df = pd.read_csv(data_url, sep=\"\\s+\", skiprows=22, header=None)\n    data = np.hstack([raw_df.values[::2, :], raw_df.values[1::2, :2]])\n    target = raw_df.values[1::2, 2]\n\nAlternative datasets include the California housing dataset and the\nAmes housing dataset. You can load the datasets as follows::\n\n    from sklearn.datasets import fetch_california_housing\n    housing = fetch_california_housing()\n\nfor the California housing dataset and::\n\n    from sklearn.datasets import fetch_openml\n    housing = fetch_openml(name=\"house_prices\", as_frame=True)\n\nfor the Ames housing dataset.\n\n[1] M Carlisle.\n\"Racist data destruction?\"\n<https://medium.com/@docintangible/racist-data-destruction-113e3eff54a8>\n\n[2] Harrison Jr, David, and Daniel L. Rubinfeld.\n\"Hedonic housing prices and the demand for clean air.\"\nJournal of environmental economics and management 5.1 (1978): 81-102.\n<https://www.researchgate.net/publication/4974606_Hedonic_housing_prices_and_the_demand_for_clean_air>\n",
     "output_type": "error",
     "traceback": [
      "\u001b[1;31m---------------------------------------------------------------------------\u001b[0m",
      "\u001b[1;31mImportError\u001b[0m                               Traceback (most recent call last)",
      "\u001b[1;32mc:\\Users\\Rasmus\\Desktop\\Skola\\MT4B\\Maskininlärning för sociala medier - TNM108\\TNM108\\Lab3\\Validation_Metrics.ipynb Cell 1\u001b[0m line \u001b[0;36m1\n\u001b[0;32m     <a href='vscode-notebook-cell:/c%3A/Users/Rasmus/Desktop/Skola/MT4B/Maskininl%C3%A4rning%20f%C3%B6r%20sociala%20medier%20-%20TNM108/TNM108/Lab3/Validation_Metrics.ipynb#W0sZmlsZQ%3D%3D?line=9'>10</a>\u001b[0m \u001b[39mfrom\u001b[39;00m \u001b[39msklearn\u001b[39;00m\u001b[39m.\u001b[39;00m\u001b[39mneighbors\u001b[39;00m \u001b[39mimport\u001b[39;00m KNeighborsRegressor\n\u001b[0;32m     <a href='vscode-notebook-cell:/c%3A/Users/Rasmus/Desktop/Skola/MT4B/Maskininl%C3%A4rning%20f%C3%B6r%20sociala%20medier%20-%20TNM108/TNM108/Lab3/Validation_Metrics.ipynb#W0sZmlsZQ%3D%3D?line=10'>11</a>\u001b[0m \u001b[39mfrom\u001b[39;00m \u001b[39msklearn\u001b[39;00m\u001b[39m.\u001b[39;00m\u001b[39mmetrics\u001b[39;00m \u001b[39mimport\u001b[39;00m mean_squared_error\n\u001b[1;32m---> <a href='vscode-notebook-cell:/c%3A/Users/Rasmus/Desktop/Skola/MT4B/Maskininl%C3%A4rning%20f%C3%B6r%20sociala%20medier%20-%20TNM108/TNM108/Lab3/Validation_Metrics.ipynb#W0sZmlsZQ%3D%3D?line=12'>13</a>\u001b[0m \u001b[39mfrom\u001b[39;00m \u001b[39msklearn\u001b[39;00m\u001b[39m.\u001b[39;00m\u001b[39mdatasets\u001b[39;00m \u001b[39mimport\u001b[39;00m load_boston\n\u001b[0;32m     <a href='vscode-notebook-cell:/c%3A/Users/Rasmus/Desktop/Skola/MT4B/Maskininl%C3%A4rning%20f%C3%B6r%20sociala%20medier%20-%20TNM108/TNM108/Lab3/Validation_Metrics.ipynb#W0sZmlsZQ%3D%3D?line=14'>15</a>\u001b[0m \u001b[39m# Load the Boston Housing dataset\u001b[39;00m\n\u001b[0;32m     <a href='vscode-notebook-cell:/c%3A/Users/Rasmus/Desktop/Skola/MT4B/Maskininl%C3%A4rning%20f%C3%B6r%20sociala%20medier%20-%20TNM108/TNM108/Lab3/Validation_Metrics.ipynb#W0sZmlsZQ%3D%3D?line=15'>16</a>\u001b[0m boston \u001b[39m=\u001b[39m load_boston()\n",
      "File \u001b[1;32mc:\\Python311\\Lib\\site-packages\\sklearn\\datasets\\__init__.py:157\u001b[0m, in \u001b[0;36m__getattr__\u001b[1;34m(name)\u001b[0m\n\u001b[0;32m    108\u001b[0m \u001b[39mif\u001b[39;00m name \u001b[39m==\u001b[39m \u001b[39m\"\u001b[39m\u001b[39mload_boston\u001b[39m\u001b[39m\"\u001b[39m:\n\u001b[0;32m    109\u001b[0m     msg \u001b[39m=\u001b[39m textwrap\u001b[39m.\u001b[39mdedent(\u001b[39m\"\"\"\u001b[39m\n\u001b[0;32m    110\u001b[0m \u001b[39m        `load_boston` has been removed from scikit-learn since version 1.2.\u001b[39m\n\u001b[0;32m    111\u001b[0m \n\u001b[1;32m   (...)\u001b[0m\n\u001b[0;32m    155\u001b[0m \u001b[39m        <https://www.researchgate.net/publication/4974606_Hedonic_housing_prices_and_the_demand_for_clean_air>\u001b[39m\n\u001b[0;32m    156\u001b[0m \u001b[39m        \u001b[39m\u001b[39m\"\"\"\u001b[39m)\n\u001b[1;32m--> 157\u001b[0m     \u001b[39mraise\u001b[39;00m \u001b[39mImportError\u001b[39;00m(msg)\n\u001b[0;32m    158\u001b[0m \u001b[39mtry\u001b[39;00m:\n\u001b[0;32m    159\u001b[0m     \u001b[39mreturn\u001b[39;00m \u001b[39mglobals\u001b[39m()[name]\n",
      "\u001b[1;31mImportError\u001b[0m: \n`load_boston` has been removed from scikit-learn since version 1.2.\n\nThe Boston housing prices dataset has an ethical problem: as\ninvestigated in [1], the authors of this dataset engineered a\nnon-invertible variable \"B\" assuming that racial self-segregation had a\npositive impact on house prices [2]. Furthermore the goal of the\nresearch that led to the creation of this dataset was to study the\nimpact of air quality but it did not give adequate demonstration of the\nvalidity of this assumption.\n\nThe scikit-learn maintainers therefore strongly discourage the use of\nthis dataset unless the purpose of the code is to study and educate\nabout ethical issues in data science and machine learning.\n\nIn this special case, you can fetch the dataset from the original\nsource::\n\n    import pandas as pd\n    import numpy as np\n\n    data_url = \"http://lib.stat.cmu.edu/datasets/boston\"\n    raw_df = pd.read_csv(data_url, sep=\"\\s+\", skiprows=22, header=None)\n    data = np.hstack([raw_df.values[::2, :], raw_df.values[1::2, :2]])\n    target = raw_df.values[1::2, 2]\n\nAlternative datasets include the California housing dataset and the\nAmes housing dataset. You can load the datasets as follows::\n\n    from sklearn.datasets import fetch_california_housing\n    housing = fetch_california_housing()\n\nfor the California housing dataset and::\n\n    from sklearn.datasets import fetch_openml\n    housing = fetch_openml(name=\"house_prices\", as_frame=True)\n\nfor the Ames housing dataset.\n\n[1] M Carlisle.\n\"Racist data destruction?\"\n<https://medium.com/@docintangible/racist-data-destruction-113e3eff54a8>\n\n[2] Harrison Jr, David, and Daniel L. Rubinfeld.\n\"Hedonic housing prices and the demand for clean air.\"\nJournal of environmental economics and management 5.1 (1978): 81-102.\n<https://www.researchgate.net/publication/4974606_Hedonic_housing_prices_and_the_demand_for_clean_air>\n"
     ]
    }
   ],
   "source": [
    "import pandas as pd\n",
    "import numpy as np\n",
    "from sklearn.model_selection import cross_val_score\n",
    "from sklearn import svm\n",
    "from sklearn.tree import DecisionTreeRegressor\n",
    "from sklearn.ensemble import RandomForestRegressor\n",
    "from sklearn.linear_model import LinearRegression\n",
    "from sklearn.linear_model import Ridge\n",
    "from sklearn.linear_model import Lasso\n",
    "from sklearn.neighbors import KNeighborsRegressor\n",
    "from sklearn.metrics import mean_squared_error\n",
    "\n",
    "from sklearn.datasets import fetch_openml\n",
    "\n",
    "# Load the Boston Housing dataset\n",
    "boston = fetch_openml(data_id=42165)  # The data_id for the Boston dataset\n",
    "X = boston.data\n",
    "Y = boston.target\n",
    "cv = 10  # Number of cross-validation folds\n",
    "\n",
    "# Linear Regression\n",
    "print('\\nLinear Regression')\n",
    "lin = LinearRegression()\n",
    "scores = cross_val_score(lin, X, Y, cv=cv)\n",
    "print(\"Mean R2: %0.2f (+/- %0.2f)\" % (scores.mean(), scores.std() * 2))\n",
    "predicted = cross_val_predict(lin, X, Y, cv=cv)\n",
    "print(\"MSE: %0.2f\" % mean_squared_error(Y, predicted))\n",
    "\n",
    "# Ridge Regression\n",
    "print('\\nRidge Regression')\n",
    "ridge = Ridge(alpha=1.0)  # You can adjust the alpha (regularization strength)\n",
    "scores = cross_val_score(ridge, X, Y, cv=cv)\n",
    "print(\"Mean R2: %0.2f (+/- %0.2f)\" % (scores.mean(), scores.std() * 2))\n",
    "predicted = cross_val_predict(ridge, X, Y, cv=cv)\n",
    "print(\"MSE: %0.2f\" % mean_squared_error(Y, predicted))\n",
    "\n",
    "# Lasso Regression\n",
    "print('\\nLasso Regression')\n",
    "lasso = Lasso(alpha=1.0)  # You can adjust the alpha (regularization strength)\n",
    "scores = cross_val_score(lasso, X, Y, cv=cv)\n",
    "print(\"Mean R2: %0.2f (+/- %0.2f)\" % (scores.mean(), scores.std() * 2))\n",
    "predicted = cross_val_predict(lasso, X, Y, cv=cv)\n",
    "print(\"MSE: %0.2f\" % mean_squared_error(Y, predicted))\n"
   ]
  }
 ],
 "metadata": {
  "kernelspec": {
   "display_name": "Python 3",
   "language": "python",
   "name": "python3"
  },
  "language_info": {
   "codemirror_mode": {
    "name": "ipython",
    "version": 3
   },
   "file_extension": ".py",
   "mimetype": "text/x-python",
   "name": "python",
   "nbconvert_exporter": "python",
   "pygments_lexer": "ipython3",
   "version": "3.11.5"
  },
  "orig_nbformat": 4
 },
 "nbformat": 4,
 "nbformat_minor": 2
}
